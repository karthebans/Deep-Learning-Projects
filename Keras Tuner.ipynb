{
 "cells": [
  {
   "cell_type": "code",
   "execution_count": null,
   "id": "c6998775-e8cb-43bf-8428-d6382bdb3064",
   "metadata": {},
   "outputs": [],
   "source": [
    "# Function to generate Deep ANN model \n",
    "def make_classification_ann(Optimizer_Trial, Neurons_Trial):\n",
    "    from keras.models import Sequential\n",
    "    from keras.layers import Dense\n",
    "    \n",
    "    # Creating the classifier ANN model\n",
    "    classifier = Sequential()\n",
    "    classifier.add(Dense(units=Neurons_Trial, input_dim=9, kernel_initializer='uniform', activation='relu'))\n",
    "    classifier.add(Dense(units=Neurons_Trial, kernel_initializer='uniform', activation='relu'))\n",
    "    classifier.add(Dense(units=1, kernel_initializer='uniform', activation='sigmoid'))\n",
    "    classifier.compile(optimizer=Optimizer_Trial, loss='binary_crossentropy', metrics=['accuracy'])\n",
    "            \n",
    "    return classifier\n",
    "\n",
    "########################################\n",
    "\n",
    "from sklearn.model_selection import GridSearchCV\n",
    "from keras.wrappers.scikit_learn import KerasClassifier\n",
    "\n",
    "\n",
    "Parameter_Trials={'batch_size':[10,20,30],\n",
    "                      'epochs':[10,20],\n",
    "                    'Optimizer_Trial':['adam', 'rmsprop'],\n",
    "                  'Neurons_Trial': [5,10]\n",
    "                 }\n",
    "\n",
    "# Creating the classifier ANN\n",
    "classifierModel=KerasClassifier(make_classification_ann, verbose=0)\n",
    "\n",
    "########################################\n",
    "\n",
    "# Creating the Grid search space\n",
    "# See different scoring methods by using sklearn.metrics.SCORERS.keys()\n",
    "grid_search=GridSearchCV(estimator=classifierModel, param_grid=Parameter_Trials, scoring='f1', cv=5)\n",
    "\n",
    "########################################\n",
    "\n",
    "# Measuring how much time it took to find the best params\n",
    "import time\n",
    "StartTime=time.time()\n",
    "\n",
    "# Running Grid Search for different paramenters\n",
    "grid_search.fit(X_train,y_train, verbose=1)\n",
    "\n",
    "EndTime=time.time()\n",
    "print(\"############### Total Time Taken: \", round((EndTime-StartTime)/60), 'Minutes #############')\n",
    "\n",
    "########################################\n",
    "\n",
    "# printing the best parameters\n",
    "print('\\n#### Best hyperparamters ####')\n",
    "grid_search.best_params_"
   ]
  }
 ],
 "metadata": {
  "kernelspec": {
   "display_name": "Python 3 (ipykernel)",
   "language": "python",
   "name": "python3"
  },
  "language_info": {
   "codemirror_mode": {
    "name": "ipython",
    "version": 3
   },
   "file_extension": ".py",
   "mimetype": "text/x-python",
   "name": "python",
   "nbconvert_exporter": "python",
   "pygments_lexer": "ipython3",
   "version": "3.7.11"
  }
 },
 "nbformat": 4,
 "nbformat_minor": 5
}
