{
 "cells": [
  {
   "cell_type": "code",
   "execution_count": 1,
   "id": "87b5066e-ed18-4a6c-9b6a-139749ae7f89",
   "metadata": {},
   "outputs": [],
   "source": [
    "#import libraries\n",
    "import numpy as np\n",
    "import pandas as pd\n",
    "import tensorflow as tf\n",
    "import seaborn as sns\n",
    "import matplotlib.pyplot as plt"
   ]
  },
  {
   "cell_type": "code",
   "execution_count": 2,
   "id": "3c0d14f1-e105-400a-8fc4-423fe3093cb9",
   "metadata": {},
   "outputs": [],
   "source": [
    "#importing dataset\n",
    "dataset = pd.read_csv('Churn_Modelling.csv')"
   ]
  },
  {
   "cell_type": "code",
   "execution_count": 3,
   "id": "3279fb1f-9880-4152-9f3b-9af8b73697d7",
   "metadata": {},
   "outputs": [
    {
     "data": {
      "text/html": [
       "<div>\n",
       "<style scoped>\n",
       "    .dataframe tbody tr th:only-of-type {\n",
       "        vertical-align: middle;\n",
       "    }\n",
       "\n",
       "    .dataframe tbody tr th {\n",
       "        vertical-align: top;\n",
       "    }\n",
       "\n",
       "    .dataframe thead th {\n",
       "        text-align: right;\n",
       "    }\n",
       "</style>\n",
       "<table border=\"1\" class=\"dataframe\">\n",
       "  <thead>\n",
       "    <tr style=\"text-align: right;\">\n",
       "      <th></th>\n",
       "      <th>RowNumber</th>\n",
       "      <th>CustomerId</th>\n",
       "      <th>Surname</th>\n",
       "      <th>CreditScore</th>\n",
       "      <th>Geography</th>\n",
       "      <th>Gender</th>\n",
       "      <th>Age</th>\n",
       "      <th>Tenure</th>\n",
       "      <th>Balance</th>\n",
       "      <th>NumOfProducts</th>\n",
       "      <th>HasCrCard</th>\n",
       "      <th>IsActiveMember</th>\n",
       "      <th>EstimatedSalary</th>\n",
       "      <th>Exited</th>\n",
       "    </tr>\n",
       "  </thead>\n",
       "  <tbody>\n",
       "    <tr>\n",
       "      <th>9995</th>\n",
       "      <td>9996</td>\n",
       "      <td>15606229</td>\n",
       "      <td>Obijiaku</td>\n",
       "      <td>771</td>\n",
       "      <td>France</td>\n",
       "      <td>Male</td>\n",
       "      <td>39</td>\n",
       "      <td>5</td>\n",
       "      <td>0.00</td>\n",
       "      <td>2</td>\n",
       "      <td>1</td>\n",
       "      <td>0</td>\n",
       "      <td>96270.64</td>\n",
       "      <td>0</td>\n",
       "    </tr>\n",
       "    <tr>\n",
       "      <th>9996</th>\n",
       "      <td>9997</td>\n",
       "      <td>15569892</td>\n",
       "      <td>Johnstone</td>\n",
       "      <td>516</td>\n",
       "      <td>France</td>\n",
       "      <td>Male</td>\n",
       "      <td>35</td>\n",
       "      <td>10</td>\n",
       "      <td>57369.61</td>\n",
       "      <td>1</td>\n",
       "      <td>1</td>\n",
       "      <td>1</td>\n",
       "      <td>101699.77</td>\n",
       "      <td>0</td>\n",
       "    </tr>\n",
       "    <tr>\n",
       "      <th>9997</th>\n",
       "      <td>9998</td>\n",
       "      <td>15584532</td>\n",
       "      <td>Liu</td>\n",
       "      <td>709</td>\n",
       "      <td>France</td>\n",
       "      <td>Female</td>\n",
       "      <td>36</td>\n",
       "      <td>7</td>\n",
       "      <td>0.00</td>\n",
       "      <td>1</td>\n",
       "      <td>0</td>\n",
       "      <td>1</td>\n",
       "      <td>42085.58</td>\n",
       "      <td>1</td>\n",
       "    </tr>\n",
       "    <tr>\n",
       "      <th>9998</th>\n",
       "      <td>9999</td>\n",
       "      <td>15682355</td>\n",
       "      <td>Sabbatini</td>\n",
       "      <td>772</td>\n",
       "      <td>Germany</td>\n",
       "      <td>Male</td>\n",
       "      <td>42</td>\n",
       "      <td>3</td>\n",
       "      <td>75075.31</td>\n",
       "      <td>2</td>\n",
       "      <td>1</td>\n",
       "      <td>0</td>\n",
       "      <td>92888.52</td>\n",
       "      <td>1</td>\n",
       "    </tr>\n",
       "    <tr>\n",
       "      <th>9999</th>\n",
       "      <td>10000</td>\n",
       "      <td>15628319</td>\n",
       "      <td>Walker</td>\n",
       "      <td>792</td>\n",
       "      <td>France</td>\n",
       "      <td>Female</td>\n",
       "      <td>28</td>\n",
       "      <td>4</td>\n",
       "      <td>130142.79</td>\n",
       "      <td>1</td>\n",
       "      <td>1</td>\n",
       "      <td>0</td>\n",
       "      <td>38190.78</td>\n",
       "      <td>0</td>\n",
       "    </tr>\n",
       "  </tbody>\n",
       "</table>\n",
       "</div>"
      ],
      "text/plain": [
       "      RowNumber  CustomerId    Surname  CreditScore Geography  Gender  Age  \\\n",
       "9995       9996    15606229   Obijiaku          771    France    Male   39   \n",
       "9996       9997    15569892  Johnstone          516    France    Male   35   \n",
       "9997       9998    15584532        Liu          709    France  Female   36   \n",
       "9998       9999    15682355  Sabbatini          772   Germany    Male   42   \n",
       "9999      10000    15628319     Walker          792    France  Female   28   \n",
       "\n",
       "      Tenure    Balance  NumOfProducts  HasCrCard  IsActiveMember  \\\n",
       "9995       5       0.00              2          1               0   \n",
       "9996      10   57369.61              1          1               1   \n",
       "9997       7       0.00              1          0               1   \n",
       "9998       3   75075.31              2          1               0   \n",
       "9999       4  130142.79              1          1               0   \n",
       "\n",
       "      EstimatedSalary  Exited  \n",
       "9995         96270.64       0  \n",
       "9996        101699.77       0  \n",
       "9997         42085.58       1  \n",
       "9998         92888.52       1  \n",
       "9999         38190.78       0  "
      ]
     },
     "execution_count": 3,
     "metadata": {},
     "output_type": "execute_result"
    }
   ],
   "source": [
    "#partial view of dataset from top\n",
    "dataset.head()\n",
    "#partial view of dataset from bottom\n",
    "dataset.tail()"
   ]
  },
  {
   "cell_type": "code",
   "execution_count": 4,
   "id": "74dc23d1-2733-4150-816d-fccdaa5f2090",
   "metadata": {},
   "outputs": [
    {
     "name": "stdout",
     "output_type": "stream",
     "text": [
      "<class 'pandas.core.frame.DataFrame'>\n",
      "RangeIndex: 10000 entries, 0 to 9999\n",
      "Data columns (total 14 columns):\n",
      " #   Column           Non-Null Count  Dtype  \n",
      "---  ------           --------------  -----  \n",
      " 0   RowNumber        10000 non-null  int64  \n",
      " 1   CustomerId       10000 non-null  int64  \n",
      " 2   Surname          10000 non-null  object \n",
      " 3   CreditScore      10000 non-null  int64  \n",
      " 4   Geography        10000 non-null  object \n",
      " 5   Gender           10000 non-null  object \n",
      " 6   Age              10000 non-null  int64  \n",
      " 7   Tenure           10000 non-null  int64  \n",
      " 8   Balance          10000 non-null  float64\n",
      " 9   NumOfProducts    10000 non-null  int64  \n",
      " 10  HasCrCard        10000 non-null  int64  \n",
      " 11  IsActiveMember   10000 non-null  int64  \n",
      " 12  EstimatedSalary  10000 non-null  float64\n",
      " 13  Exited           10000 non-null  int64  \n",
      "dtypes: float64(2), int64(9), object(3)\n",
      "memory usage: 1.1+ MB\n"
     ]
    }
   ],
   "source": [
    "#basic dataset information\n",
    "dataset.info()"
   ]
  },
  {
   "cell_type": "code",
   "execution_count": 5,
   "id": "fb95c40c-9951-42b4-9e0e-78fca7cf7e9c",
   "metadata": {},
   "outputs": [
    {
     "data": {
      "text/plain": [
       "(10000, 14)"
      ]
     },
     "execution_count": 5,
     "metadata": {},
     "output_type": "execute_result"
    }
   ],
   "source": [
    "#dimention of the dataset\n",
    "dataset.shape"
   ]
  },
  {
   "cell_type": "code",
   "execution_count": 6,
   "id": "a78a3871-8d66-431e-b887-8f8939cf99c8",
   "metadata": {},
   "outputs": [
    {
     "name": "stdout",
     "output_type": "stream",
     "text": [
      "Any missing data or NaN in the dataset: False\n"
     ]
    }
   ],
   "source": [
    "#checking for missing values\n",
    "print(str('Any missing data or NaN in the dataset:'),dataset.isnull().values.any())"
   ]
  },
  {
   "cell_type": "code",
   "execution_count": 7,
   "id": "f33e1b3d-c24c-4a1e-a71b-8939c21e9ccb",
   "metadata": {},
   "outputs": [
    {
     "name": "stdout",
     "output_type": "stream",
     "text": [
      "                 RowNumber  CustomerId  CreditScore       Age    Tenure  \\\n",
      "RowNumber         1.000000    0.004202     0.005840  0.000783 -0.006495   \n",
      "CustomerId        0.004202    1.000000     0.005308  0.009497 -0.014883   \n",
      "CreditScore       0.005840    0.005308     1.000000 -0.003965  0.000842   \n",
      "Age               0.000783    0.009497    -0.003965  1.000000 -0.009997   \n",
      "Tenure           -0.006495   -0.014883     0.000842 -0.009997  1.000000   \n",
      "Balance          -0.009067   -0.012419     0.006268  0.028308 -0.012254   \n",
      "NumOfProducts     0.007246    0.016972     0.012238 -0.030680  0.013444   \n",
      "HasCrCard         0.000599   -0.014025    -0.005458 -0.011721  0.022583   \n",
      "IsActiveMember    0.012044    0.001665     0.025651  0.085472 -0.028362   \n",
      "EstimatedSalary  -0.005988    0.015271    -0.001384 -0.007201  0.007784   \n",
      "Exited           -0.016571   -0.006248    -0.027094  0.285323 -0.014001   \n",
      "\n",
      "                  Balance  NumOfProducts  HasCrCard  IsActiveMember  \\\n",
      "RowNumber       -0.009067       0.007246   0.000599        0.012044   \n",
      "CustomerId      -0.012419       0.016972  -0.014025        0.001665   \n",
      "CreditScore      0.006268       0.012238  -0.005458        0.025651   \n",
      "Age              0.028308      -0.030680  -0.011721        0.085472   \n",
      "Tenure          -0.012254       0.013444   0.022583       -0.028362   \n",
      "Balance          1.000000      -0.304180  -0.014858       -0.010084   \n",
      "NumOfProducts   -0.304180       1.000000   0.003183        0.009612   \n",
      "HasCrCard       -0.014858       0.003183   1.000000       -0.011866   \n",
      "IsActiveMember  -0.010084       0.009612  -0.011866        1.000000   \n",
      "EstimatedSalary  0.012797       0.014204  -0.009933       -0.011421   \n",
      "Exited           0.118533      -0.047820  -0.007138       -0.156128   \n",
      "\n",
      "                 EstimatedSalary    Exited  \n",
      "RowNumber              -0.005988 -0.016571  \n",
      "CustomerId              0.015271 -0.006248  \n",
      "CreditScore            -0.001384 -0.027094  \n",
      "Age                    -0.007201  0.285323  \n",
      "Tenure                  0.007784 -0.014001  \n",
      "Balance                 0.012797  0.118533  \n",
      "NumOfProducts           0.014204 -0.047820  \n",
      "HasCrCard              -0.009933 -0.007138  \n",
      "IsActiveMember         -0.011421 -0.156128  \n",
      "EstimatedSalary         1.000000  0.012097  \n",
      "Exited                  0.012097  1.000000  \n"
     ]
    },
    {
     "data": {
      "text/plain": [
       "<AxesSubplot:>"
      ]
     },
     "execution_count": 7,
     "metadata": {},
     "output_type": "execute_result"
    },
    {
     "data": {
      "image/png": "[encoded data removed]",
      "text/plain": [
       "<Figure size 720x540 with 2 Axes>"
      ]
     },
     "metadata": {
      "needs_background": "light"
     },
     "output_type": "display_data"
    }
   ],
   "source": [
    "#finding correlation between the features\n",
    "corr_var=dataset.corr()\n",
    "print(corr_var)\n",
    "plt.figure(figsize=(10,7.5))\n",
    "sns.heatmap(corr_var, annot=True, cmap='BuPu')"
   ]
  },
  {
   "cell_type": "code",
   "execution_count": 8,
   "id": "d383668b-1933-450a-bb6e-adbcd31349ba",
   "metadata": {},
   "outputs": [],
   "source": [
    "X = dataset.iloc[:, 3:-1].values"
   ]
  },
  {
   "cell_type": "code",
   "execution_count": 9,
   "id": "bcd9fea0-908b-4705-8dc1-5792103acd98",
   "metadata": {},
   "outputs": [],
   "source": [
    "#target value\n",
    "y = dataset.iloc[:, -1].values"
   ]
  },
  {
   "cell_type": "code",
   "execution_count": 10,
   "id": "8834be20-d1f5-4aa3-ad46-298ae7661820",
   "metadata": {},
   "outputs": [],
   "source": [
    "#as we have two columns as categorical terms we go for encoding we need to convert to numericals\n",
    "#Categorical encoding\n",
    "#gender will have some correlation with other feature so we go for label encoding\n",
    "from sklearn.preprocessing import LabelEncoder\n",
    "le = LabelEncoder()\n",
    "#gender column in index 2\n",
    "X[:, 2] = le.fit_transform(X[:, 2])"
   ]
  },
  {
   "cell_type": "code",
   "execution_count": 11,
   "id": "5e788ef1-9269-4210-9246-2e44a545f5b5",
   "metadata": {},
   "outputs": [],
   "source": [
    "#country name won't be that much correlation added it has more than 2 names so go for one hot encoding\n",
    "from sklearn.compose import ColumnTransformer\n",
    "from sklearn.preprocessing import OneHotEncoder\n",
    "#country name is present in 1st index value\n",
    "ct = ColumnTransformer(transformers=[('encoder', OneHotEncoder(), [1])], remainder='passthrough')\n",
    "X = np.array(ct.fit_transform(X))"
   ]
  },
  {
   "cell_type": "code",
   "execution_count": 12,
   "id": "5f801580-8e21-4907-b2b9-0713f2529f45",
   "metadata": {},
   "outputs": [],
   "source": [
    "#training and testing split\n",
    "from sklearn.model_selection import train_test_split\n",
    "X_train, X_test, y_train, y_test = train_test_split(X, y, test_size = 0.3, random_state = 0)"
   ]
  },
  {
   "cell_type": "code",
   "execution_count": 13,
   "id": "7af8948b-564c-4acb-9819-6a9dfa7a4ad7",
   "metadata": {},
   "outputs": [],
   "source": [
    "#feature scaling is an important and mandatory for ann process before modelling\n",
    "from sklearn.preprocessing import StandardScaler\n",
    "sc = StandardScaler()\n",
    "X_train = sc.fit_transform(X_train)\n",
    "X_test = sc.transform(X_test)"
   ]
  },
  {
   "cell_type": "code",
   "execution_count": 14,
   "id": "013d6c2b-011b-44be-af9c-cd344713b2ea",
   "metadata": {},
   "outputs": [],
   "source": [
    "#ANN - initializing\n",
    "ann = tf.keras.models.Sequential()"
   ]
  },
  {
   "cell_type": "code",
   "execution_count": 15,
   "id": "5ac93db6-3e9f-46bb-9d4c-193a4f28b818",
   "metadata": {},
   "outputs": [],
   "source": [
    "#input layer\n",
    "# 6 features\n",
    "ann.add(tf.keras.layers.Dense(units=6, activation='relu'))"
   ]
  },
  {
   "cell_type": "code",
   "execution_count": 16,
   "id": "ae6d0b4f-d1d2-469a-9bb3-75975b8bc1fb",
   "metadata": {},
   "outputs": [],
   "source": [
    "#hidden layer\n",
    "ann.add(tf.keras.layers.Dense(units=6, activation='relu'))"
   ]
  },
  {
   "cell_type": "code",
   "execution_count": 17,
   "id": "883193b7-6f7a-4eb6-aec0-40d2d07bf82d",
   "metadata": {},
   "outputs": [],
   "source": [
    "#output layer\n",
    "#as target value is binary - AF\n",
    "ann.add(tf.keras.layers.Dense(units=1, activation='sigmoid'))"
   ]
  },
  {
   "cell_type": "code",
   "execution_count": 18,
   "id": "6fc7bd32-9660-42e7-af4d-d2032ff22ea9",
   "metadata": {},
   "outputs": [],
   "source": [
    "#compiling\n",
    "#loss - target is binary \n",
    "ann.compile(optimizer = 'adam', loss = 'binary_crossentropy', metrics = ['accuracy'])"
   ]
  },
  {
   "cell_type": "code",
   "execution_count": 19,
   "id": "04153492-4f97-435b-ac6f-6373dfd87ebe",
   "metadata": {},
   "outputs": [
    {
     "name": "stdout",
     "output_type": "stream",
     "text": [
      "Epoch 1/50\n",
      "219/219 [==============================] - 1s 3ms/step - loss: 0.7057 - accuracy: 0.5654\n",
      "Epoch 2/50\n",
      "219/219 [==============================] - 1s 3ms/step - loss: 0.5178 - accuracy: 0.7867\n",
      "Epoch 3/50\n",
      "219/219 [==============================] - 1s 3ms/step - loss: 0.4812 - accuracy: 0.7977\n",
      "Epoch 4/50\n",
      "219/219 [==============================] - 1s 3ms/step - loss: 0.4570 - accuracy: 0.8017\n",
      "Epoch 5/50\n",
      "219/219 [==============================] - 1s 3ms/step - loss: 0.4396 - accuracy: 0.8129\n",
      "Epoch 6/50\n",
      "219/219 [==============================] - 1s 3ms/step - loss: 0.4292 - accuracy: 0.8161\n",
      "Epoch 7/50\n",
      "219/219 [==============================] - 1s 3ms/step - loss: 0.4218 - accuracy: 0.8179\n",
      "Epoch 8/50\n",
      "219/219 [==============================] - 1s 3ms/step - loss: 0.4159 - accuracy: 0.8213\n",
      "Epoch 9/50\n",
      "219/219 [==============================] - 1s 3ms/step - loss: 0.4110 - accuracy: 0.8254\n",
      "Epoch 10/50\n",
      "219/219 [==============================] - 1s 3ms/step - loss: 0.4070 - accuracy: 0.8256\n",
      "Epoch 11/50\n",
      "219/219 [==============================] - 1s 3ms/step - loss: 0.4034 - accuracy: 0.8284\n",
      "Epoch 12/50\n",
      "219/219 [==============================] - 1s 3ms/step - loss: 0.4007 - accuracy: 0.8290\n",
      "Epoch 13/50\n",
      "219/219 [==============================] - 1s 3ms/step - loss: 0.3975 - accuracy: 0.8309\n",
      "Epoch 14/50\n",
      "219/219 [==============================] - 1s 3ms/step - loss: 0.3948 - accuracy: 0.8339\n",
      "Epoch 15/50\n",
      "219/219 [==============================] - 1s 3ms/step - loss: 0.3915 - accuracy: 0.8330\n",
      "Epoch 16/50\n",
      "219/219 [==============================] - 1s 3ms/step - loss: 0.3895 - accuracy: 0.8327\n",
      "Epoch 17/50\n",
      "219/219 [==============================] - 1s 3ms/step - loss: 0.3866 - accuracy: 0.8340\n",
      "Epoch 18/50\n",
      "219/219 [==============================] - 1s 3ms/step - loss: 0.3832 - accuracy: 0.8381\n",
      "Epoch 19/50\n",
      "219/219 [==============================] - 1s 3ms/step - loss: 0.3783 - accuracy: 0.8391\n",
      "Epoch 20/50\n",
      "219/219 [==============================] - 1s 3ms/step - loss: 0.3746 - accuracy: 0.8416\n",
      "Epoch 21/50\n",
      "219/219 [==============================] - 1s 3ms/step - loss: 0.3690 - accuracy: 0.8441\n",
      "Epoch 22/50\n",
      "219/219 [==============================] - 1s 3ms/step - loss: 0.3649 - accuracy: 0.8481\n",
      "Epoch 23/50\n",
      "219/219 [==============================] - 1s 3ms/step - loss: 0.3610 - accuracy: 0.8513\n",
      "Epoch 24/50\n",
      "219/219 [==============================] - 1s 3ms/step - loss: 0.3570 - accuracy: 0.8540\n",
      "Epoch 25/50\n",
      "219/219 [==============================] - 1s 3ms/step - loss: 0.3540 - accuracy: 0.8541\n",
      "Epoch 26/50\n",
      "219/219 [==============================] - 1s 3ms/step - loss: 0.3514 - accuracy: 0.8563\n",
      "Epoch 27/50\n",
      "219/219 [==============================] - 1s 3ms/step - loss: 0.3490 - accuracy: 0.8583\n",
      "Epoch 28/50\n",
      "219/219 [==============================] - 1s 3ms/step - loss: 0.3462 - accuracy: 0.8603\n",
      "Epoch 29/50\n",
      "219/219 [==============================] - 1s 3ms/step - loss: 0.3452 - accuracy: 0.8594\n",
      "Epoch 30/50\n",
      "219/219 [==============================] - 1s 3ms/step - loss: 0.3432 - accuracy: 0.8609\n",
      "Epoch 31/50\n",
      "219/219 [==============================] - 1s 3ms/step - loss: 0.3420 - accuracy: 0.8614\n",
      "Epoch 32/50\n",
      "219/219 [==============================] - 1s 3ms/step - loss: 0.3408 - accuracy: 0.8616\n",
      "Epoch 33/50\n",
      "219/219 [==============================] - 1s 3ms/step - loss: 0.3400 - accuracy: 0.8599\n",
      "Epoch 34/50\n",
      "219/219 [==============================] - 1s 3ms/step - loss: 0.3391 - accuracy: 0.8617\n",
      "Epoch 35/50\n",
      "219/219 [==============================] - 1s 3ms/step - loss: 0.3387 - accuracy: 0.8623\n",
      "Epoch 36/50\n",
      "219/219 [==============================] - 1s 3ms/step - loss: 0.3378 - accuracy: 0.8637\n",
      "Epoch 37/50\n",
      "219/219 [==============================] - 1s 3ms/step - loss: 0.3376 - accuracy: 0.8627\n",
      "Epoch 38/50\n",
      "219/219 [==============================] - 1s 3ms/step - loss: 0.3370 - accuracy: 0.8629\n",
      "Epoch 39/50\n",
      "219/219 [==============================] - 1s 3ms/step - loss: 0.3364 - accuracy: 0.8641\n",
      "Epoch 40/50\n",
      "219/219 [==============================] - 1s 3ms/step - loss: 0.3360 - accuracy: 0.8633\n",
      "Epoch 41/50\n",
      "219/219 [==============================] - 1s 3ms/step - loss: 0.3352 - accuracy: 0.8647\n",
      "Epoch 42/50\n",
      "219/219 [==============================] - 1s 3ms/step - loss: 0.3354 - accuracy: 0.8637\n",
      "Epoch 43/50\n",
      "219/219 [==============================] - 1s 3ms/step - loss: 0.3352 - accuracy: 0.8627\n",
      "Epoch 44/50\n",
      "219/219 [==============================] - 1s 3ms/step - loss: 0.3349 - accuracy: 0.8647\n",
      "Epoch 45/50\n",
      "219/219 [==============================] - 1s 3ms/step - loss: 0.3349 - accuracy: 0.8636\n",
      "Epoch 46/50\n",
      "219/219 [==============================] - 1s 3ms/step - loss: 0.3343 - accuracy: 0.8654\n",
      "Epoch 47/50\n",
      "219/219 [==============================] - 1s 3ms/step - loss: 0.3343 - accuracy: 0.8650\n",
      "Epoch 48/50\n",
      "219/219 [==============================] - 1s 3ms/step - loss: 0.3339 - accuracy: 0.8650\n",
      "Epoch 49/50\n",
      "219/219 [==============================] - 1s 3ms/step - loss: 0.3341 - accuracy: 0.8646\n",
      "Epoch 50/50\n",
      "219/219 [==============================] - 1s 3ms/step - loss: 0.3340 - accuracy: 0.8659\n"
     ]
    },
    {
     "data": {
      "text/plain": [
       "<keras.callbacks.History at 0x1bc548251c8>"
      ]
     },
     "execution_count": 19,
     "metadata": {},
     "output_type": "execute_result"
    }
   ],
   "source": [
    "#training set\n",
    "ann.fit(X_train, y_train, batch_size = 32, epochs = 50)"
   ]
  },
  {
   "cell_type": "code",
   "execution_count": 20,
   "id": "d2d3b775-f130-4779-a927-5f9dd0e0f0ba",
   "metadata": {},
   "outputs": [],
   "source": [
    "#test result - prediction\n",
    "y_pred = ann.predict(X_test)"
   ]
  },
  {
   "cell_type": "code",
   "execution_count": 21,
   "id": "e38a3228-f5a4-45ad-a888-899b0421f435",
   "metadata": {},
   "outputs": [
    {
     "name": "stdout",
     "output_type": "stream",
     "text": [
      "[[0 0]\n",
      " [0 1]\n",
      " [0 0]\n",
      " ...\n",
      " [0 0]\n",
      " [0 0]\n",
      " [1 1]]\n"
     ]
    }
   ],
   "source": [
    "#insted of values we ll get 0 or 1\n",
    "y_pred = (y_pred > 0.5)\n",
    "#actual vs prediicted outputs\n",
    "print(np.concatenate((y_pred.reshape(len(y_pred),1), y_test.reshape(len(y_test),1)),1))"
   ]
  },
  {
   "cell_type": "code",
   "execution_count": 22,
   "id": "dcb0effa-005c-4a84-8ce0-e5b386ee4f89",
   "metadata": {},
   "outputs": [
    {
     "name": "stdout",
     "output_type": "stream",
     "text": [
      "[[2248  131]\n",
      " [ 302  319]]\n"
     ]
    },
    {
     "data": {
      "text/plain": [
       "0.8556666666666667"
      ]
     },
     "execution_count": 22,
     "metadata": {},
     "output_type": "execute_result"
    }
   ],
   "source": [
    "#accuracy and confusion matrix\n",
    "from sklearn.metrics import confusion_matrix, accuracy_score\n",
    "cm = confusion_matrix(y_test, y_pred)\n",
    "print(cm)\n",
    "accuracy_score(y_test, y_pred)"
   ]
  }
 ],
 "metadata": {
  "kernelspec": {
   "display_name": "Python 3 (ipykernel)",
   "language": "python",
   "name": "python3"
  },
  "language_info": {
   "codemirror_mode": {
    "name": "ipython",
    "version": 3
   },
   "file_extension": ".py",
   "mimetype": "text/x-python",
   "name": "python",
   "nbconvert_exporter": "python",
   "pygments_lexer": "ipython3",
   "version": "3.7.11"
  }
 },
 "nbformat": 4,
 "nbformat_minor": 5
}
